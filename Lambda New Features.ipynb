{
 "cells": [
  {
   "cell_type": "markdown",
   "metadata": {},
   "source": [
    "** Minerando Dados** - A maior comunidade de Data Science do Brasil\n",
    "\n",
    "www.minerandodados.com.br"
   ]
  },
  {
   "cell_type": "markdown",
   "metadata": {},
   "source": [
    "**Importa o pandas e extende as colunas string**"
   ]
  },
  {
   "cell_type": "code",
   "execution_count": 83,
   "metadata": {},
   "outputs": [],
   "source": [
    "import pandas as pd\n",
    "pd.set_option('display.max_colwidth', -1)"
   ]
  },
  {
   "cell_type": "markdown",
   "metadata": {},
   "source": [
    "** Cria um Dataframe de exemplo**"
   ]
  },
  {
   "cell_type": "code",
   "execution_count": 68,
   "metadata": {},
   "outputs": [],
   "source": [
    "dt = pd.DataFrame([['Atendimento excelente, chega de coisa ruim no mercado','positivo'],\n",
    "                   ['Gostei muito do atendimento, estão de parabéns!!,recomendo muito!!','positivo'],\n",
    "                   ['É uma pena não ter estacionamento, isso prejudica demais!','negativo'],\n",
    "                   ['Achei que tinha estacionamento, isso quebrou minhas pernas','negativo'],\n",
    "                   ['Achei o preço salgado!.','negativo'],\n",
    "                   ['Comida muito boa, preço bom!!','positivo'],\n",
    "                   ['Preço bom e lugar aconchegante.','positivo']]\n",
    "                   , columns=['review','sentiment'])"
   ]
  },
  {
   "cell_type": "markdown",
   "metadata": {},
   "source": [
    "** Cria função de frequência**"
   ]
  },
  {
   "cell_type": "code",
   "execution_count": 13,
   "metadata": {},
   "outputs": [],
   "source": [
    "def word_count(review, word):\n",
    "    review = review.lower()\n",
    "    return review.count(word)"
   ]
  },
  {
   "cell_type": "markdown",
   "metadata": {},
   "source": [
    "** Exemplo de uso do lambda**"
   ]
  },
  {
   "cell_type": "code",
   "execution_count": 76,
   "metadata": {},
   "outputs": [
    {
     "name": "stdout",
     "output_type": "stream",
     "text": [
      "3\n"
     ]
    }
   ],
   "source": [
    "soma = lambda x,y: x+y\n",
    "print (soma(1,2))"
   ]
  },
  {
   "cell_type": "markdown",
   "metadata": {},
   "source": [
    "** Cria coluna com frequências**"
   ]
  },
  {
   "cell_type": "code",
   "execution_count": 69,
   "metadata": {},
   "outputs": [],
   "source": [
    "dt['atendimento'] = dt['review'].apply(lambda x: word_count(x, 'atendimento'))\n",
    "dt['estacionamento'] = dt['review'].apply(lambda x: word_count(x, 'estacionamento'))\n",
    "dt['preço'] = dt['review'].apply(lambda x: word_count(x, 'preço'))\n",
    "dt['comida'] = dt['review'].apply(lambda x: word_count(x, 'comida'))"
   ]
  },
  {
   "cell_type": "markdown",
   "metadata": {},
   "source": [
    "** Exibe dataframe**"
   ]
  },
  {
   "cell_type": "code",
   "execution_count": 84,
   "metadata": {},
   "outputs": [
    {
     "data": {
      "text/html": [
       "<div>\n",
       "<style scoped>\n",
       "    .dataframe tbody tr th:only-of-type {\n",
       "        vertical-align: middle;\n",
       "    }\n",
       "\n",
       "    .dataframe tbody tr th {\n",
       "        vertical-align: top;\n",
       "    }\n",
       "\n",
       "    .dataframe thead th {\n",
       "        text-align: right;\n",
       "    }\n",
       "</style>\n",
       "<table border=\"1\" class=\"dataframe\">\n",
       "  <thead>\n",
       "    <tr style=\"text-align: right;\">\n",
       "      <th></th>\n",
       "      <th>review</th>\n",
       "      <th>sentiment</th>\n",
       "      <th>atendimento</th>\n",
       "      <th>estacionamento</th>\n",
       "      <th>preço</th>\n",
       "      <th>comida</th>\n",
       "    </tr>\n",
       "  </thead>\n",
       "  <tbody>\n",
       "    <tr>\n",
       "      <th>0</th>\n",
       "      <td>Atendimento excelente, chega de coisa ruim no mercado</td>\n",
       "      <td>positivo</td>\n",
       "      <td>1</td>\n",
       "      <td>0</td>\n",
       "      <td>0</td>\n",
       "      <td>0</td>\n",
       "    </tr>\n",
       "    <tr>\n",
       "      <th>1</th>\n",
       "      <td>Goste muito do atendimento, estão de parabéns!!,recomendo muito!!</td>\n",
       "      <td>positivo</td>\n",
       "      <td>1</td>\n",
       "      <td>0</td>\n",
       "      <td>0</td>\n",
       "      <td>0</td>\n",
       "    </tr>\n",
       "    <tr>\n",
       "      <th>2</th>\n",
       "      <td>È uma pena não ter estacionamento, isso prejudica demais!</td>\n",
       "      <td>negativo</td>\n",
       "      <td>0</td>\n",
       "      <td>1</td>\n",
       "      <td>0</td>\n",
       "      <td>0</td>\n",
       "    </tr>\n",
       "    <tr>\n",
       "      <th>3</th>\n",
       "      <td>Achei que tinha estacionamento, isso quebrou minhas pernas</td>\n",
       "      <td>negativo</td>\n",
       "      <td>0</td>\n",
       "      <td>1</td>\n",
       "      <td>0</td>\n",
       "      <td>0</td>\n",
       "    </tr>\n",
       "    <tr>\n",
       "      <th>4</th>\n",
       "      <td>Achei o preço salgado!.</td>\n",
       "      <td>negativo</td>\n",
       "      <td>0</td>\n",
       "      <td>0</td>\n",
       "      <td>1</td>\n",
       "      <td>0</td>\n",
       "    </tr>\n",
       "    <tr>\n",
       "      <th>5</th>\n",
       "      <td>Comida muito boa, preço bom!!</td>\n",
       "      <td>positivo</td>\n",
       "      <td>0</td>\n",
       "      <td>0</td>\n",
       "      <td>1</td>\n",
       "      <td>1</td>\n",
       "    </tr>\n",
       "    <tr>\n",
       "      <th>6</th>\n",
       "      <td>Preço bom e lugar aconchegante.</td>\n",
       "      <td>positivo</td>\n",
       "      <td>0</td>\n",
       "      <td>0</td>\n",
       "      <td>1</td>\n",
       "      <td>0</td>\n",
       "    </tr>\n",
       "  </tbody>\n",
       "</table>\n",
       "</div>"
      ],
      "text/plain": [
       "                                                              review  \\\n",
       "0  Atendimento excelente, chega de coisa ruim no mercado               \n",
       "1  Goste muito do atendimento, estão de parabéns!!,recomendo muito!!   \n",
       "2  È uma pena não ter estacionamento, isso prejudica demais!           \n",
       "3  Achei que tinha estacionamento, isso quebrou minhas pernas          \n",
       "4  Achei o preço salgado!.                                             \n",
       "5  Comida muito boa, preço bom!!                                       \n",
       "6  Preço bom e lugar aconchegante.                                     \n",
       "\n",
       "  sentiment  atendimento  estacionamento  preço  comida  \n",
       "0  positivo  1            0               0      0       \n",
       "1  positivo  1            0               0      0       \n",
       "2  negativo  0            1               0      0       \n",
       "3  negativo  0            1               0      0       \n",
       "4  negativo  0            0               1      0       \n",
       "5  positivo  0            0               1      1       \n",
       "6  positivo  0            0               1      0       "
      ]
     },
     "execution_count": 84,
     "metadata": {},
     "output_type": "execute_result"
    }
   ],
   "source": [
    "dt"
   ]
  },
  {
   "cell_type": "markdown",
   "metadata": {},
   "source": [
    "** Exibe agrupamento de colunas**"
   ]
  },
  {
   "cell_type": "code",
   "execution_count": 72,
   "metadata": {},
   "outputs": [
    {
     "data": {
      "text/html": [
       "<div>\n",
       "<style scoped>\n",
       "    .dataframe tbody tr th:only-of-type {\n",
       "        vertical-align: middle;\n",
       "    }\n",
       "\n",
       "    .dataframe tbody tr th {\n",
       "        vertical-align: top;\n",
       "    }\n",
       "\n",
       "    .dataframe thead th {\n",
       "        text-align: right;\n",
       "    }\n",
       "</style>\n",
       "<table border=\"1\" class=\"dataframe\">\n",
       "  <thead>\n",
       "    <tr style=\"text-align: right;\">\n",
       "      <th></th>\n",
       "      <th>atendimento</th>\n",
       "      <th>estacionamento</th>\n",
       "      <th>preço</th>\n",
       "      <th>comida</th>\n",
       "    </tr>\n",
       "    <tr>\n",
       "      <th>sentiment</th>\n",
       "      <th></th>\n",
       "      <th></th>\n",
       "      <th></th>\n",
       "      <th></th>\n",
       "    </tr>\n",
       "  </thead>\n",
       "  <tbody>\n",
       "    <tr>\n",
       "      <th>negativo</th>\n",
       "      <td>0</td>\n",
       "      <td>2</td>\n",
       "      <td>1</td>\n",
       "      <td>0</td>\n",
       "    </tr>\n",
       "    <tr>\n",
       "      <th>positivo</th>\n",
       "      <td>2</td>\n",
       "      <td>0</td>\n",
       "      <td>2</td>\n",
       "      <td>1</td>\n",
       "    </tr>\n",
       "  </tbody>\n",
       "</table>\n",
       "</div>"
      ],
      "text/plain": [
       "           atendimento  estacionamento  preço  comida\n",
       "sentiment                                            \n",
       "negativo             0               2      1       0\n",
       "positivo             2               0      2       1"
      ]
     },
     "execution_count": 72,
     "metadata": {},
     "output_type": "execute_result"
    }
   ],
   "source": [
    "dt.groupby('sentiment')[dt.columns].sum()"
   ]
  }
 ],
 "metadata": {
  "kernelspec": {
   "display_name": "Python 3",
   "language": "python",
   "name": "python3"
  },
  "language_info": {
   "codemirror_mode": {
    "name": "ipython",
    "version": 3
   },
   "file_extension": ".py",
   "mimetype": "text/x-python",
   "name": "python",
   "nbconvert_exporter": "python",
   "pygments_lexer": "ipython3",
   "version": "3.6.5"
  }
 },
 "nbformat": 4,
 "nbformat_minor": 2
}
